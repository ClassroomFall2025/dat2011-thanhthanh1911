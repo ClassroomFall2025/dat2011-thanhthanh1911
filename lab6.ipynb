{
 "cells": [
  {
   "cell_type": "markdown",
   "id": "fdeff819",
   "metadata": {},
   "source": [
    "# Sinh Viên thực hiện Lab 6 ở Đây"
   ]
  },
  {
   "cell_type": "markdown",
   "id": "acc5d7dc",
   "metadata": {},
   "source": [
    "## Lab 6 - Bài 1"
   ]
  },
  {
   "cell_type": "code",
   "execution_count": 5,
   "id": "001e0507",
   "metadata": {},
   "outputs": [
    {
     "name": "stdout",
     "output_type": "stream",
     "text": [
      "Chu vi hình chữ nhật: 16\n",
      "Diện tích hình chữ nhật: 15\n"
     ]
    }
   ],
   "source": [
    "# Code lab 6 bài 1 ở đây\n",
    "from hinhchunhat import ChuNhat, HinhVuong\n",
    "\n",
    "cn = ChuNhat( chieudai=5, chieurong=3)\n",
    "hv = HinhVuong( canh=4)\n",
    "print(\"Chu vi hình chữ nhật:\", cn.tinh_chuvi())\n",
    "print(\"Diện tích hình chữ nhật:\", cn.tinh_dientich())"
   ]
  },
  {
   "cell_type": "markdown",
   "id": "c0835310",
   "metadata": {},
   "source": [
    "## Lab 6 - Bài 2"
   ]
  },
  {
   "cell_type": "code",
   "execution_count": null,
   "id": "fa9cb39f",
   "metadata": {},
   "outputs": [],
   "source": [
    "# Code lab 6  bài 2 ở đây\n",
    "from sinhvienpoly import SinhVienPoly\n",
    "sv = SinhVienPoly(ho_ten = \"Nguyễn Văn A\", nganh_hoc = \"Công nghệ thông tin\", diem = 8.5)\n",
    "print()"
   ]
  },
  {
   "cell_type": "markdown",
   "id": "0f2483fe",
   "metadata": {},
   "source": [
    "## Lab 6 - Bài 3"
   ]
  },
  {
   "cell_type": "code",
   "execution_count": null,
   "id": "7034990b",
   "metadata": {},
   "outputs": [],
   "source": [
    "# Code lab 6  bài 3 ở đây"
   ]
  },
  {
   "cell_type": "markdown",
   "id": "d36ea3d3",
   "metadata": {},
   "source": [
    "## Lab 6 - Bài 4"
   ]
  },
  {
   "cell_type": "code",
   "execution_count": null,
   "id": "4c707ec1",
   "metadata": {},
   "outputs": [
    {
     "name": "stdout",
     "output_type": "stream",
     "text": [
      "=====================MENU=====================\n",
      "1:Nhập danh sách sinh viên\n",
      "2:Xuất thông tin danh sách sinh viên\n",
      "3:Xuất danh sách sinh viên có học lực giỏi\n",
      "4:Sắp xếp danh sách sinh viên theo điểm\n",
      "5:Kết thúc\n",
      "==============================================\n",
      "Lựa chọn chức năng chương trình!\n",
      "Nhập Danh sách sinh viên\n",
      "=====================MENU=====================\n",
      "1:Nhập danh sách sinh viên\n",
      "2:Xuất thông tin danh sách sinh viên\n",
      "3:Xuất danh sách sinh viên có học lực giỏi\n",
      "4:Sắp xếp danh sách sinh viên theo điểm\n",
      "5:Kết thúc\n",
      "==============================================\n",
      "Lựa chọn chức năng chương trình!\n",
      "Chưa chọn đúng chức năng chương trình\n",
      "=====================MENU=====================\n",
      "1:Nhập danh sách sinh viên\n",
      "2:Xuất thông tin danh sách sinh viên\n",
      "3:Xuất danh sách sinh viên có học lực giỏi\n",
      "4:Sắp xếp danh sách sinh viên theo điểm\n",
      "5:Kết thúc\n",
      "==============================================\n",
      "Lựa chọn chức năng chương trình!\n",
      "Chương trình kết thúc\n"
     ]
    }
   ],
   "source": [
    "# code lab 6 bài 4 ở đây\n",
    "from quanlysinhvienpoly import*\n",
    "ql = QuanLySinhVien()\n",
    "\n",
    "menu = {\n",
    "    \"1\" : \"Nhập danh sách sinh viên\",\n",
    "    \"2\" :\"Xuất thông tin danh sách sinh viên\",\n",
    "    \"3\" :\"Xuất danh sách sinh viên có học lực giỏi\",\n",
    "    \"4\" :\"Sắp xếp danh sách sinh viên theo điểm\",\n",
    "    \"5\" :\"Kết thúc\"\n",
    "}\n",
    "while True:\n",
    "    print(\"===\"*7 + \"MENU\" + \"===\"*7)\n",
    "    for k, v in menu.items():\n",
    "        print(f\"{k}:{v}\")\n",
    "    print(\"===\"*7 + \"====\" + \"===\"*7)\n",
    "\n",
    "    print(\"Lựa chọn chức năng chương trình!\")\n",
    "    lua_chon = input(\"Nhap chuc nang ct:\")\n",
    "    match lua_chon:\n",
    "        case \"5\":\n",
    "            print(\"Chương trình kết thúc\")\n",
    "            break\n",
    "        case \"1\":\n",
    "            print(\"Nhập Danh sách sinh viên\")\n",
    "            ql.nhap_danh_sach_sinh_vien()\n",
    "        case \"2\":\n",
    "            print(\"Xuất thông tin danh sách sinh viên\")\n",
    "            ql.Xuat_danh_sach_sinh_vien()\n",
    "        case \"3\":\n",
    "            ql.xuat_dssv_gioi()\n",
    "        case \"4\":\n",
    "            ql.sap_xep_dssv()\n",
    "        case _:\n",
    "            print(\"Chưa chọn đúng chức năng chương trình\")\n",
    "# menu = {\n",
    "#     \"1\" :\"Nhập danh sách sinh viên\",\n",
    "#     \"2\" :\"Xuất thông tin danh sách sinh viên\",\n",
    "#     \"3\" :\"Xuất danh sách sinh viên có học lực giỏi\",\n",
    "#     \"4\" :\"Sắp xếp danh sách sinh viên theo điểm\",\n",
    "#     \"5\" :\"Kết thúc\"\n",
    "# }\n",
    "# while True:\n",
    "#     print(\"===\" * 7 +\"MENU\"+\"===\" * 7)\n",
    "#     for k, v in menu.items():\n",
    "#         print(f\"{k}:{v}\")\n",
    "#     print(\"===\" * 7 + \"====\" + \"===\" * 7)\n",
    "\n",
    "#     print(\"Lưa chọn chức năng chương trình!\")\n",
    "#     lua_chon = input(\"Nhập chức năng chương trình!: \")\n",
    "#     match lua_chon:\n",
    "#         case  \"5\":\n",
    "#             print(\"Chương trình kết thúc\")\n",
    "#             break\n",
    "#         case \"1\":\n",
    "#             ql.nhap_danh_sach_sinh_vien()\n",
    "#         case \"2\":\n",
    "#             ql.Xuat_danh_sach_sinh_vien()\n",
    "#         case \"3\":\n",
    "#             ql.xuat_dssv_gioi()\n",
    "#         case \"4\":\n",
    "#             ql.xuat_dssv_gioi()\n",
    "#         case _:\n",
    "#             print(\"chưa chọn đúng chức năng chương trình\")\n",
    "\n",
    "\n",
    "\n",
    "\n"
   ]
  },
  {
   "cell_type": "markdown",
   "id": "e2b41d4a",
   "metadata": {},
   "source": [
    "## Lab 6 - Bài 5: bài tập làm thêm"
   ]
  },
  {
   "cell_type": "code",
   "execution_count": null,
   "id": "0e0172f7",
   "metadata": {},
   "outputs": [],
   "source": [
    "# code lab 6  bài làm thêm ở đây "
   ]
  }
 ],
 "metadata": {
  "kernelspec": {
   "display_name": ".venv (3.13.7)",
   "language": "python",
   "name": "python3"
  },
  "language_info": {
   "codemirror_mode": {
    "name": "ipython",
    "version": 3
   },
   "file_extension": ".py",
   "mimetype": "text/x-python",
   "name": "python",
   "nbconvert_exporter": "python",
   "pygments_lexer": "ipython3",
   "version": "3.13.7"
  }
 },
 "nbformat": 4,
 "nbformat_minor": 5
}
