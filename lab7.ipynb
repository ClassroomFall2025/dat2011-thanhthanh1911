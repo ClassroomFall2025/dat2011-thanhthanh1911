{
 "cells": [
  {
   "cell_type": "markdown",
   "id": "fdeff819",
   "metadata": {},
   "source": [
    "# Sinh Viên thực hiện Lab 7 ở Đây"
   ]
  },
  {
   "cell_type": "markdown",
   "id": "acc5d7dc",
   "metadata": {},
   "source": [
    "## Lab 7 - Bài 1"
   ]
  },
  {
   "cell_type": "code",
   "execution_count": 1,
   "id": "001e0507",
   "metadata": {},
   "outputs": [
    {
     "name": "stdout",
     "output_type": "stream",
     "text": [
      "Tự nguyện\n",
      "Trương Quốc Khánh\n",
      "Nếu là chim, tôi sẽ là loài bồ câu trắng\n",
      "Nếu là hoa, tôi sẽ là một đóa hướng dương\n",
      "Nếu là mây, tôi sẽ là một vầng mây ấm\n",
      "Là người, tôi sẽ chết cho quê hương.\n",
      "\n",
      "Là chim, tôi sẽ cất cao đôi cánh mềm\n",
      "Từ nam ra ngoài bắc báo tin nối liền\n",
      "Là hoa, tôi nở tình yêu ban sớm\n",
      "Cùng muôn trái tim ngất ngây hoà bình.\n",
      "\n",
      "Là mây, theo làn gió tung bay khắp trời\n",
      "Nghìn xưa oai hùng đó tôi xin tiếp lời\n",
      "Là người, xin một lần khi nằm xuống\n",
      "Nhìn anh em đứng lên phất cao ngọn cờ.\n",
      "----------------------------------------\n",
      "Tự nguyện\n",
      "----------------------------------------\n",
      "Trương Quốc Khánh\n"
     ]
    }
   ],
   "source": [
    "# Code lab 7 bài 1 ở đây\n",
    "\n",
    "# Đọc toàn bộ nội dung của file \n",
    "with open(\"Resource.txt\", \"r\", encoding=\"utf-8\") as file:\n",
    "    noidung = file.read()\n",
    "    print(noidung)\n",
    "    print(\"-\"*40)\n",
    "\n",
    "# Đọc và xuất ra màn hình tên bài thơ (9 ký tự đầu tiên)\n",
    "with open(\"Resource.txt\", \"r\", encoding=\"utf-8\") as file:\n",
    "    noidung = file.readline(9)\n",
    "    print(noidung)\n",
    "    print(\"-\"*40)\n",
    "    \n",
    "# Đọc và xuất ra màn hình tên tác giả (dòng thứ hai)\n",
    "with open(\"Resource.txt\", \"r\", encoding=\"utf-8\") as file:\n",
    "    file.readline()\n",
    "    noidung = file.readline(17)\n",
    "    print(noidung)"
   ]
  },
  {
   "cell_type": "markdown",
   "id": "c0835310",
   "metadata": {},
   "source": [
    "## Lab 7 - Bài 2"
   ]
  },
  {
   "cell_type": "code",
   "execution_count": null,
   "id": "fa9cb39f",
   "metadata": {},
   "outputs": [],
   "source": [
    "# Code lab 7  bài 2 ở đây\n",
    "# Tạo 1 file mới, đặt tên file là Lab7-Exercise2.txt. Ghi nội dung sau vào file:\n",
    "with open(\"Lab7-Exercise2.txt\", \"w\", encoding=\"utf-8\") as file: # ghi thông tin bài thơ vào file vừa tạo\n",
    "        file.write('''\"...\n",
    "                Nếu một mai tôi có bay lên trời\n",
    "                Thì người ơi tôi đã sống rất thảnh thơi\n",
    "                Nếu một mai tôi có đi qua đời\n",
    "                Thì người ơi tôi đã sống rất tuyệt vời\n",
    "                ...\"''')\n",
    "        "
   ]
  },
  {
   "cell_type": "markdown",
   "id": "0f2483fe",
   "metadata": {},
   "source": [
    "## Lab 7 - Bài 3"
   ]
  },
  {
   "cell_type": "code",
   "execution_count": 3,
   "id": "7034990b",
   "metadata": {},
   "outputs": [
    {
     "name": "stdout",
     "output_type": "stream",
     "text": [
      "Nhập thông tin 5 bài thơ 1\n",
      "------------------------------\n",
      "Nhập thông tin 5 bài thơ 2\n",
      "------------------------------\n",
      "Nhập thông tin 5 bài thơ 3\n",
      "------------------------------\n",
      "Nhập thông tin 5 bài thơ 4\n",
      "------------------------------\n",
      "Nhập thông tin 5 bài thơ 5\n",
      "------------------------------\n"
     ]
    }
   ],
   "source": [
    "# Code lab 7  bài 3 ở đây\n",
    "# Viết chương trình để nhập thông tin của 5 bài thơ từ bàn phím và ghi vào file theo định dạng csv. Thông tin của bài hát bao gồm: tiêu đề, tác giả và năm sáng tác.\n",
    "import csv\n",
    "file_name = \"lab7-5baitho.csv\"\n",
    "# code ghi đè vào file csv\n",
    "with open(file_name, \"w\", encoding=\"utf-8\") as file:\n",
    "    writer = csv.writer(file)\n",
    "    writer.writerow([\"Tiêu đề\", \"Tác giả\", \"Năm sáng tác\"])\n",
    "    #code nhập thông tin 5 bài thơ\n",
    "    for i in range(1, 6):\n",
    "        print(f\"Nhập thông tin 5 bài thơ {i}\")\n",
    "        tieu_de = input(\"Tiều đề: \")\n",
    "        tac_gia = input(\"Tác giả: \")\n",
    "        nam_sang_tac = input(\"Năm sáng tác: \")\n",
    "        print(\"-\"*30)\n",
    "        writer.writerow([tieu_de, tac_gia, nam_sang_tac])"
   ]
  },
  {
   "cell_type": "markdown",
   "id": "d36ea3d3",
   "metadata": {},
   "source": [
    "## Lab 7 - Bài 4"
   ]
  },
  {
   "cell_type": "code",
   "execution_count": null,
   "id": "4c707ec1",
   "metadata": {},
   "outputs": [
    {
     "name": "stdout",
     "output_type": "stream",
     "text": [
      "['Tự nguyện', 'Trương Quốc Khánh', 'Nếu là chim, tôi sẽ là loài bồ câu trắng', 'Nếu là hoa, tôi sẽ là một đóa hướng dương', 'Nếu là mây, tôi sẽ là một vầng mây ấm', 'Là người, tôi sẽ chết cho quê hương.', '', 'Là chim, tôi sẽ cất cao đôi cánh mềm', 'Từ nam ra ngoài bắc báo tin nối liền', 'Là hoa, tôi nở tình yêu ban sớm', 'Cùng muôn trái tim ngất ngây hoà bình.', '', 'Là mây, theo làn gió tung bay khắp trời', 'Nghìn xưa oai hùng đó tôi xin tiếp lời', 'Là người, xin một lần khi nằm xuống', 'Nhìn anh em đứng lên phất cao ngọn cờ.']\n",
      "[['Nếu là chim, tôi sẽ là loài bồ câu trắng', 'Nếu là hoa, tôi sẽ là một đóa hướng dương', 'Nếu là mây, tôi sẽ là một vầng mây ấm', 'Là người, tôi sẽ chết cho quê hương.'], ['Là chim, tôi sẽ cất cao đôi cánh mềm', 'Từ nam ra ngoài bắc báo tin nối liền', 'Là hoa, tôi nở tình yêu ban sớm', 'Cùng muôn trái tim ngất ngây hoà bình.'], ['Là mây, theo làn gió tung bay khắp trời', 'Nghìn xưa oai hùng đó tôi xin tiếp lời', 'Là người, xin một lần khi nằm xuống', 'Nhìn anh em đứng lên phất cao ngọn cờ.']]\n"
     ]
    }
   ],
   "source": [
    "# code lab 7 bài 4 ở đây\n",
    "# Đọc toàn bộ nội dung và ghi vào file theo định dạng XML\n",
    "with open(\"Resource.txt\", \"r\", encoding=\"utf-8\") as file:\n",
    "    noidung = [dong.strip() for dong in file.readlines()]\n",
    "    print(noidung)\n",
    "    noi_dung_moi = []\n",
    "    kho_tho = []\n",
    "    for dong in noidung[2:]:\n",
    "        if dong == \"\":\n",
    "            noi_dung_moi.append(kho_tho)\n",
    "            kho_tho = []\n",
    "        else:\n",
    "            kho_tho.append(dong)\n",
    "    noi_dung_moi.append(kho_tho)\n",
    "print(noi_dung_moi)\n",
    "\n",
    "with open(\"Resource.xml\", \"w\", encoding=\"utf-8\") as file1:\n",
    "    file1.write(\"<song>\\n\")\n",
    "    file1.write(f\"\\t<name>{noidung[0]}</name>\\n\")\n",
    "    file1.write(f\"\\t<author>{noidung[1]}</author>\\n\")\n",
    "    for phan_tu in noi_dung_moi:\n",
    "        file1.write(\"\\t<section>\\n\")\n",
    "        for dong in phan_tu:\n",
    "            file1.write(f\"\\t\\t{dong}\\n\")\n",
    "        file1.write(\"\\t</section>\\n\")\n",
    "    file1.write(\"</song>\\n\")\n",
    "\n"
   ]
  },
  {
   "cell_type": "markdown",
   "id": "e2b41d4a",
   "metadata": {},
   "source": [
    "## Lab 7 - Bài 5: bài tập làm thêm"
   ]
  },
  {
   "cell_type": "code",
   "execution_count": null,
   "id": "0e0172f7",
   "metadata": {},
   "outputs": [],
   "source": [
    "# code lab 7  bài làm thêm ở đây "
   ]
  }
 ],
 "metadata": {
  "kernelspec": {
   "display_name": "Python 3",
   "language": "python",
   "name": "python3"
  },
  "language_info": {
   "codemirror_mode": {
    "name": "ipython",
    "version": 3
   },
   "file_extension": ".py",
   "mimetype": "text/x-python",
   "name": "python",
   "nbconvert_exporter": "python",
   "pygments_lexer": "ipython3",
   "version": "3.13.7"
  }
 },
 "nbformat": 4,
 "nbformat_minor": 5
}
