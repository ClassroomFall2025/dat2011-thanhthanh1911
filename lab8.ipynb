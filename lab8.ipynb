{
 "cells": [
  {
   "cell_type": "markdown",
   "id": "fdeff819",
   "metadata": {},
   "source": [
    "# Sinh Viên thực hiện Lab 8 ở Đây"
   ]
  },
  {
   "cell_type": "markdown",
   "id": "acc5d7dc",
   "metadata": {},
   "source": [
    "## Lab 8 - Bài 1"
   ]
  },
  {
   "cell_type": "code",
   "execution_count": null,
   "id": "001e0507",
   "metadata": {},
   "outputs": [
    {
     "name": "stdout",
     "output_type": "stream",
     "text": [
      "['Dang', 'Ngoc', 'Thanh', 'Thanh']\n",
      "DANG NgocThanh THANH\n"
     ]
    }
   ],
   "source": [
    "# Code lab 8 bài 1 ở đây\n",
    "# nhập họ tên từ bàn phím, xuất tên, họ, tên đệm xuất ra màng hình trong đó tên và họ in hoa\n",
    "ho_ten = input(\"Nhập họ tên:\")\n",
    "list_ho_ten =[tu for tu in ho_ten.split()]\n",
    "print(list_ho_ten)\n",
    "ten_dem = \"\"\n",
    "for phan_tu in list_ho_ten[1:-1]:\n",
    "    ten_dem = ten_dem + phan_tu\n",
    "print(f'{list_ho_ten[0].upper()} {ten_dem} {list_ho_ten[-1].upper()}')"
   ]
  },
  {
   "cell_type": "markdown",
   "id": "c0835310",
   "metadata": {},
   "source": [
    "## Lab 8 - Bài 2"
   ]
  },
  {
   "cell_type": "code",
   "execution_count": null,
   "id": "fa9cb39f",
   "metadata": {},
   "outputs": [],
   "source": [
    "# Code lab 8  bài 2 ở đây\n",
    "#Nhập thông tin của một sinh viên, bao gồm họ tên, email, số điện thoại, chứng minh nhân dân. Kiểm tra và thông báo lỗi nếu nhập không đúng định dạng email, số điện thoại và CMND\n",
    "import re\n",
    "\n",
    "def is_valid_email(email):\n",
    "    pattern = r'^[a-zA-Z0-9._%+-]+@[a-zA-Z0-9.-]+\\.[a-zA-Z]{2,}$'\n",
    "    return re.match(pattern, email) is not None\n",
    "def is_valid_phone(phone):\n",
    "    pattern = r'^\\d{10,11}$'\n",
    "    return re.match(pattern, phone) is not None\n",
    "def is_valid_cmnd(cmnd):\n",
    "    pattern = r'^\\d{9}$|^\\d{12}$'\n",
    "    return re.match(pattern, cmnd) is not None\n",
    "full_name = input(\"Nhập họ tên sinh viên: \").strip()\n",
    "email = input(\"Nhập email: \").strip()\n",
    "phone = input(\"Nhập số điện thoại: \").strip()\n",
    "cmnd = input(\"Nhập chứng minh nhân dân: \").strip()\n",
    "if not is_valid_email(email):\n",
    "    print(\"Email không đúng định dạng.\")\n",
    "if not is_valid_phone(phone):\n",
    "    print(\"Số điện thoại không đúng định dạng.\")\n",
    "if not is_valid_cmnd(cmnd):\n",
    "    print(\"Chứng minh nhân dân không đúng định dạng.\")\n",
    "\n",
    "else:\n",
    "    print(\"Thông tin sinh viên hợp lệ.\")"
   ]
  },
  {
   "cell_type": "code",
   "execution_count": null,
   "id": "22abb6a5",
   "metadata": {},
   "outputs": [],
   "source": [
    "import re\n",
    "import random\n",
    "\n",
    "# Khai báo cấu trúc dữ liệu và Regex\n",
    "sinh_vien = {\n",
    "    \"Họ tên\": \"\",\n",
    "    \"Email\": \"\",\n",
    "    \"Phone\": \"\",\n",
    "    \"cccd\": \"\"\n",
    "}\n",
    "\n",
    "# Định nghĩa các biểu thức chính quy (Regex)\n",
    "regex_email = r\"^[a-zA-Z0-9-._]+@[a-zA-Z0-9-]+\\.[a-zA-Z]{2,}$\"\n",
    "reg_phone = r\"^\\+?[0-9\\s]{8,15}$\" # Regex phone\n",
    "regex_cccd = r\"^00[1-9]|(1|8)[0-9]|09|06|0)[0-9]{2}[0-9]{6}$\" # Regex CCCD\n",
    "\n",
    "\n",
    "# Nhập và kiểm tra Email\n",
    "while True:\n",
    "    email = input(\"Nhập email:\")\n",
    "    if re.match(regex_email, email):\n",
    "        print(\"Nhập email hợp lệ!\")\n",
    "        sinh_vien[\"Email\"] = email\n",
    "        break\n",
    "    else:\n",
    "        print(\"Emal chưa đúng!\")\n",
    "\n",
    "# Nhập và kiểm tra Số Điện Thoại\n",
    "while True:\n",
    "    so_dien_thoai = input(\"Nhập số điện thoại:\")\n",
    "    if re.match(reg_phone, so_dien_thoai):\n",
    "        print(\"Nhập đúng phone\")\n",
    "        sinh_vien[\"Phone\"] = so_dien_thoai\n",
    "        break\n",
    "    else:\n",
    "        print(\"nhập chưa đúng\")\n",
    "\n",
    "# Nhập và kiểm tra CCCD\n",
    "while True:\n",
    "    cccd = input(\"Nhập cccd:\")\n",
    "    if re.match(regex_cccd, cccd):\n",
    "        print(\"Đúng định dạng cccd\")\n",
    "        sinh_vien[\"cccd\"] = cccd\n",
    "        break\n",
    "    else:\n",
    "        print(\"Chưa đúng định dạng, nhập lại\")\n",
    "\n",
    "\n",
    "# Xử lý Họ Tên và Định dạng Chuỗi\n",
    "ho_ten = input(\"Nhập họ tên:\")\n",
    "sinh_vien[\"Họ tên\"] = ho_ten\n",
    "\n",
    "list_ho_ten =[tu for tu in ho_ten.split()]\n",
    "print(list_ho_ten)\n",
    "\n",
    "ten_dem = \"\"\n",
    "# Lấy các từ ở giữa (từ chỉ số 1 đến chỉ số cuối cùng trừ 1)\n",
    "for phan_tu in list_ho_ten[1:-1]:\n",
    "    ten_dem = ten_dem + phan_tu\n",
    "\n",
    "# In ra Họ (HOA) + Tên đệm (liền nhau) + Tên (HOA)\n",
    "print(f'{list_ho_ten[0].upper()} {ten_dem} {list_ho_ten[-1].upper()}')\n",
    "\n",
    "\n",
    "# Ghi File Ngẫu nhiên\n",
    "list_ngau_nhien = [random.randint(0, 100) for _ in range(1000000)]\n",
    "\n",
    "with open(\"numbers.txt\", \"w\", encoding=\"utf-8\") as f:\n",
    "    for i, so in enumerate(list_ngau_nhien):\n",
    "        if i > 0:\n",
    "            f.write(\",\")\n",
    "        f.write(str(so))\n",
    "\n",
    "print(\"Đã ghi xong!\")"
   ]
  },
  {
   "cell_type": "markdown",
   "id": "0f2483fe",
   "metadata": {},
   "source": [
    "## Lab 8 - Bài 3"
   ]
  },
  {
   "cell_type": "code",
   "execution_count": null,
   "id": "7034990b",
   "metadata": {},
   "outputs": [
    {
     "name": "stdout",
     "output_type": "stream",
     "text": [
      "Đã tạo file random_numbers.txt với 1 triệu số nguyên ngẫu nhiên trên cùng 1 hàng.\n"
     ]
    }
   ],
   "source": [
    "# Code lab 8  bài 3 ở đây\n",
    "#Viết chương trình để tạo ra 1 triệu số nguyên ngẫu nhiên có giá trị trong khoảng từ 0 đến 100. Ghi kết quả ra file.\n",
    "import random\n",
    "\n",
    "with open(\"random_numbers.txt\", \"w\") as file:\n",
    "    for i in range(1_000_000):\n",
    "        number = random.randint(0, 100)\n",
    "        file.write(f\"{number} \")\n",
    "print(\"Đã tạo file random_numbers.txt với 1 triệu số nguyên ngẫu nhiên trên cùng 1 hàng.\")\n"
   ]
  },
  {
   "cell_type": "markdown",
   "id": "d36ea3d3",
   "metadata": {},
   "source": [
    "## Lab 8 - Bài 4"
   ]
  },
  {
   "cell_type": "code",
   "execution_count": null,
   "id": "4c707ec1",
   "metadata": {},
   "outputs": [
    {
     "name": "stdout",
     "output_type": "stream",
     "text": [
      "Mean: 49.935276\n",
      "Median: 50.0\n",
      "Mode: [27]\n",
      "Standard Deviation: 29.14612441303976\n"
     ]
    }
   ],
   "source": [
    "# code lab 8 bài 4 ở đây\n",
    "#Đọc file dữ liệu được tạo trong bài 3. Sử dụng thư viện statistics để tính các giá trị sau:\n",
    "import statistics\n",
    "\n",
    "with open(\"random_numbers.txt\", \"r\", encoding=\"utf-8\") as f:\n",
    "    numbers = list(map(int, f.read().split()))\n",
    "\n",
    "print(\"Mean:\", statistics.mean(numbers))\n",
    "print(\"Median:\", statistics.median(numbers))\n",
    "print(\"Mode:\", statistics.multimode(numbers))\n",
    "print(\"Standard Deviation:\", statistics.stdev(numbers))\n",
    "\n"
   ]
  },
  {
   "cell_type": "markdown",
   "id": "e2b41d4a",
   "metadata": {},
   "source": [
    "## Lab 8 - Bài 5: bài tập làm thêm"
   ]
  },
  {
   "cell_type": "code",
   "execution_count": null,
   "id": "0e0172f7",
   "metadata": {},
   "outputs": [],
   "source": [
    "# code lab 8  bài làm thêm ở đây \n"
   ]
  }
 ],
 "metadata": {
  "kernelspec": {
   "display_name": "Python 3",
   "language": "python",
   "name": "python3"
  },
  "language_info": {
   "codemirror_mode": {
    "name": "ipython",
    "version": 3
   },
   "file_extension": ".py",
   "mimetype": "text/x-python",
   "name": "python",
   "nbconvert_exporter": "python",
   "pygments_lexer": "ipython3",
   "version": "3.13.7"
  }
 },
 "nbformat": 4,
 "nbformat_minor": 5
}
