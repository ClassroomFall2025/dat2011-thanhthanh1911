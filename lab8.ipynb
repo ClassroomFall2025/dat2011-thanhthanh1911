{
 "cells": [
  {
   "cell_type": "markdown",
   "id": "fdeff819",
   "metadata": {},
   "source": [
    "# Sinh Viên thực hiện Lab 8 ở Đây"
   ]
  },
  {
   "cell_type": "markdown",
   "id": "acc5d7dc",
   "metadata": {},
   "source": [
    "## Lab 8 - Bài 1"
   ]
  },
  {
   "cell_type": "code",
   "execution_count": null,
   "id": "001e0507",
   "metadata": {},
   "outputs": [],
   "source": [
    "# Code lab 8 bài 1 ở đây\n",
    "# nhập họ tên từ bàn phím, xuất tên, họ, tên đệm xuất ra màng hình trong đó tên và họ in hoa\n",
    "full_name = input(\"Nhập họ tên: \").strip()\n",
    "name_parts = full_name.split()\n",
    "if len(name_parts) >= 2:\n",
    "    first_name = name_parts[-1].upper()\n",
    "    last_name = name_parts[0].upper()\n",
    "    middle_name = ' '.join(name_parts[1:-1])\n",
    "    print(f\"Họ: {last_name}\")\n",
    "    print(f\"Tên đệm: {middle_name}\")\n",
    "    print(f\"Tên: {first_name}\")"
   ]
  },
  {
   "cell_type": "markdown",
   "id": "c0835310",
   "metadata": {},
   "source": [
    "## Lab 8 - Bài 2"
   ]
  },
  {
   "cell_type": "code",
   "execution_count": null,
   "id": "fa9cb39f",
   "metadata": {},
   "outputs": [],
   "source": [
    "# Code lab 8  bài 2 ở đây\n",
    "#Nhập thông tin của một sinh viên, bao gồm họ tên, email, số điện thoại, chứng minh nhân dân. Kiểm tra và thông báo lỗi nếu nhập không đúng định dạng email, số điện thoại và CMND\n",
    "import re\n",
    "def is_valid_email(email):\n",
    "    pattern = r'^[a-zA-Z0-9._%+-]+@[a-zA-Z0-9.-]+\\.[a-zA-Z]{2,}$'\n",
    "    return re.match(pattern, email) is not None\n",
    "def is_valid_phone(phone):\n",
    "    pattern = r'^\\d{10,11}$'\n",
    "    return re.match(pattern, phone) is not None\n",
    "def is_valid_cmnd(cmnd):\n",
    "    pattern = r'^\\d{9}$|^\\d{12}$'\n",
    "    return re.match(pattern, cmnd) is not None\n",
    "full_name = input(\"Nhập họ tên sinh viên: \").strip()\n",
    "email = input(\"Nhập email: \").strip()\n",
    "phone = input(\"Nhập số điện thoại: \").strip()\n",
    "cmnd = input(\"Nhập chứng minh nhân dân: \").strip()\n",
    "if not is_valid_email(email):\n",
    "    print(\"Email không đúng định dạng.\")\n",
    "if not is_valid_phone(phone):\n",
    "    print(\"Số điện thoại không đúng định dạng.\")\n",
    "if not is_valid_cmnd(cmnd):\n",
    "    print(\"Chứng minh nhân dân không đúng định dạng.\")\n",
    "\n",
    "else:\n",
    "    print(\"Thông tin sinh viên hợp lệ.\")"
   ]
  },
  {
   "cell_type": "markdown",
   "id": "0f2483fe",
   "metadata": {},
   "source": [
    "## Lab 8 - Bài 3"
   ]
  },
  {
   "cell_type": "code",
   "execution_count": null,
   "id": "7034990b",
   "metadata": {},
   "outputs": [],
   "source": [
    "# Code lab 8  bài 3 ở đây\n",
    "#Viết chương trình để tạo ra 1 triệu số nguyên ngẫu nhiên có giá trị trong khoảng từ 0 đến 100. Ghi kết quả ra file.\n",
    "import random\n",
    "with open(\"random_numbers.txt\", \"w\") as file:\n",
    "    for _ in range(1000000):\n",
    "        number = random.randint(0, 100)\n",
    "        file.write(f\"{number}\\n\")\n",
    "print(\"Đã tạo file random_numbers.txt với 1 triệu số nguyên ngẫu nhiên.\")"
   ]
  },
  {
   "cell_type": "markdown",
   "id": "d36ea3d3",
   "metadata": {},
   "source": [
    "## Lab 8 - Bài 4"
   ]
  },
  {
   "cell_type": "code",
   "execution_count": null,
   "id": "4c707ec1",
   "metadata": {},
   "outputs": [],
   "source": [
    "# code lab 8 bài 4 ở đây\n",
    "#Đọc file dữ liệu được tạo trong bài 3. Sử dụng thư viện statistics để tính các giá trị sau:\n",
    "import statistics\n",
    "with open(\"random_numbers.txt\", \"r\") as file:\n",
    "    numbers = [int(line.strip()) for line in file.readlines()]\n",
    "mean_value = statistics.mean(numbers)\n",
    "median_value = statistics.median(numbers)\n",
    "mode_value = statistics.mode(numbers)\n",
    "stdev_value = statistics.stdev(numbers)\n",
    "print(f\"Mean: {mean_value}\")\n",
    "print(f\"Median: {median_value}\")\n",
    "print(f\"Mode: {mode_value}\")\n",
    "print(f\"Standard Deviation: {stdev_value}\")"
   ]
  },
  {
   "cell_type": "markdown",
   "id": "e2b41d4a",
   "metadata": {},
   "source": [
    "## Lab 8 - Bài 5: bài tập làm thêm"
   ]
  },
  {
   "cell_type": "code",
   "execution_count": null,
   "id": "0e0172f7",
   "metadata": {},
   "outputs": [],
   "source": [
    "# code lab 8  bài làm thêm ở đây \n"
   ]
  }
 ],
 "metadata": {
  "kernelspec": {
   "display_name": "Python 3",
   "language": "python",
   "name": "python3"
  },
  "language_info": {
   "name": "python",
   "version": "3.13.2"
  }
 },
 "nbformat": 4,
 "nbformat_minor": 5
}
