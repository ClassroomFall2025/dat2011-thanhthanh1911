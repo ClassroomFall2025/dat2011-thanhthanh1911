{
 "cells": [
  {
   "cell_type": "markdown",
   "id": "fdeff819",
   "metadata": {},
   "source": [
    "# Sinh Viên thực hiện Lab 1 ở Đây"
   ]
  },
  {
   "cell_type": "markdown",
   "id": "acc5d7dc",
   "metadata": {},
   "source": [
    "## Lab 1 - Bài 1"
   ]
  },
  {
   "cell_type": "code",
   "execution_count": 1,
   "id": "001e0507",
   "metadata": {},
   "outputs": [
    {
     "name": "stdout",
     "output_type": "stream",
     "text": [
      "Xin chào\n",
      "Tôi tên là Đặng Ngọc Thanh Thanh\n",
      "Tôi 21 tuổi\n",
      "Tôi đến từ Cần Thơ\n",
      "Tôi học tại Cao đẳng FPT Polytechnic\n"
     ]
    }
   ],
   "source": [
    "# Code lab 1 bài 1 ở đây\n",
    "print(\"Xin chào\")\n",
    "print(\"Tôi tên là Đặng Ngọc Thanh Thanh\")\n",
    "print(\"Tôi 21 tuổi\")\n",
    "print(\"Tôi đến từ Cần Thơ\")\n",
    "print(\"Tôi học tại Cao đẳng FPT Polytechnic\")"
   ]
  },
  {
   "cell_type": "markdown",
   "id": "c0835310",
   "metadata": {},
   "source": [
    "## Lab 1 - Bài 2"
   ]
  },
  {
   "cell_type": "code",
   "execution_count": 2,
   "id": "fa9cb39f",
   "metadata": {},
   "outputs": [
    {
     "name": "stdout",
     "output_type": "stream",
     "text": [
      "Chu vi hình chữ nhật là: 22\n",
      "Diện tích hình chữ nhật là: 24\n"
     ]
    }
   ],
   "source": [
    "# Code lab 1  bài 2 ở đây\n",
    "a = int(input(\"Nhập cạnh thứ nhất của hình chữ nhật: \"))\n",
    "b = int(input(\"Nhập cạnh thứ hai của hình chữ nhật: \"))\n",
    "chuvi = 2*(a+b)\n",
    "dientich = a*b\n",
    "print(f\"Chu vi hình chữ nhật là: {chuvi}\")\n",
    "print(f\"Diện tích hình chữ nhật là: {dientich}\")"
   ]
  },
  {
   "cell_type": "markdown",
   "id": "0f2483fe",
   "metadata": {},
   "source": [
    "## Lab 1 - Bài 3"
   ]
  },
  {
   "cell_type": "code",
   "execution_count": 8,
   "id": "7034990b",
   "metadata": {},
   "outputs": [
    {
     "name": "stdout",
     "output_type": "stream",
     "text": [
      "\"Sống không giận, không hờn không oán trách\n",
      "Sống mỉm cười, với thử thách chông gai\n",
      "Sống vươn lên, theo kịp ánh ban mai\n",
      "Sống chan hòa, với những người chung sống.\n",
      "\n",
      "Sống là động, nhưng lòng luôn bất động\n",
      "Sống là thương, nhưng lòng chẳng vấn vương\n",
      "Sống yên vui, danh lợi mãi coi thường\n",
      "Tâm bất biến, giữa dòng đời vạn biến.\"\n",
      "\n"
     ]
    }
   ],
   "source": [
    "# Code lab 1  bài 3 ở đây\n",
    "a = \"Sống\"\n",
    "print(f'\"{a} không giận, không hờn không oán trách\\n'\n",
    "      f'{a} mỉm cười, với thử thách chông gai\\n'\n",
    "      f'{a} vươn lên, theo kịp ánh ban mai\\n'\n",
    "      f'{a} chan hòa, với những người chung sống.\\n'\n",
    "      '\\n'\n",
    "      f'{a} là động, nhưng lòng luôn bất động\\n'\n",
    "      f'{a} là thương, nhưng lòng chẳng vấn vương\\n'\n",
    "      f'{a} yên vui, danh lợi mãi coi thường\\n'\n",
    "      'Tâm bất biến, giữa dòng đời vạn biến.\"\\n')\n"
   ]
  },
  {
   "cell_type": "markdown",
   "id": "d36ea3d3",
   "metadata": {},
   "source": [
    "## Lab 1 - Bài 4"
   ]
  },
  {
   "cell_type": "code",
   "execution_count": 1,
   "id": "4c707ec1",
   "metadata": {},
   "outputs": [
    {
     "name": "stdout",
     "output_type": "stream",
     "text": [
      "Căn delta = 8.717797887081348\n"
     ]
    }
   ],
   "source": [
    "# code lab 1 bài 4 ở đây\n",
    "import math\n",
    "\n",
    "# Nhập hệ số\n",
    "a = float(input(\"Nhập a: \"))\n",
    "b = float(input(\"Nhập b: \"))\n",
    "c = float(input(\"Nhập c: \"))\n",
    "\n",
    "# Tính delta\n",
    "delta = b*b-4*a*c\n",
    "can_delta = math.sqrt(delta)\n",
    "print(\"Căn delta =\", can_delta)\n"
   ]
  },
  {
   "cell_type": "markdown",
   "id": "e2b41d4a",
   "metadata": {},
   "source": [
    "## Lab 1 - Bài 5: bài tập làm thêm"
   ]
  },
  {
   "cell_type": "code",
   "execution_count": null,
   "id": "0e0172f7",
   "metadata": {},
   "outputs": [],
   "source": [
    "# code lab 1  bài làm thêm ở đây\n",
    "import math\n",
    "\n",
    "# Phép tính cơ bản\n",
    "a, b = 10, 3\n",
    "print(\"Cộng:\", a + b)\n",
    "print(\"Trừ:\", a - b)\n",
    "print(\"Nhân:\", a * b)\n",
    "print(\"Chia:\", a / b)\n",
    "\n",
    "# Lũy thừa\n",
    "print(\"Lũy thừa:\", a ** b)\n",
    "\n",
    "# Căn bậc hai\n",
    "print(\"Căn bậc hai:\", math.sqrt(a))\n",
    "\n",
    "# Hàm lượng giác (tính bằng radian)\n",
    "x = math.pi / 4   # góc 45 độ\n",
    "print(\"sin(x):\", math.sin(x))\n",
    "print(\"cos(x):\", math.cos(x))\n",
    "print(\"tan(x):\", math.tan(x))\n",
    "\n",
    "# Logarit\n",
    "print(\"log10(a):\", math.log10(a))\n",
    "print(\"ln(a):\", math.log(a))        # log tự nhiên (cơ số e)\n",
    "print(\"log cơ số b của a:\", math.log(a, b))  # log_b(a)\n"
   ]
  }
 ],
 "metadata": {
  "kernelspec": {
   "display_name": "Python 3",
   "language": "python",
   "name": "python3"
  },
  "language_info": {
   "codemirror_mode": {
    "name": "ipython",
    "version": 3
   },
   "file_extension": ".py",
   "mimetype": "text/x-python",
   "name": "python",
   "nbconvert_exporter": "python",
   "pygments_lexer": "ipython3",
   "version": "3.13.7"
  }
 },
 "nbformat": 4,
 "nbformat_minor": 5
}
