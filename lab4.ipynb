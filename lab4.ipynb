{
 "cells": [
  {
   "cell_type": "markdown",
   "id": "fdeff819",
   "metadata": {},
   "source": [
    "# Sinh Viên thực hiện Lab 4 ở Đây"
   ]
  },
  {
   "cell_type": "markdown",
   "id": "acc5d7dc",
   "metadata": {},
   "source": [
    "## Lab 1 - Bài 1"
   ]
  },
  {
   "cell_type": "code",
   "execution_count": null,
   "id": "001e0507",
   "metadata": {},
   "outputs": [],
   "source": [
    "# Code lab 4 bài 1 ở đây\n",
    "# def tinh_tien_nuoc(so_nuoc):\n",
    "#     gia_ban_nuoc = (7500, 8800, 12000, 24000)\n",
    "#     if so_nuoc <= 10 and so_nuoc >= 0:\n",
    "#         tien_nuoc = so_nuoc * gia_ban_nuoc[0]\n",
    "#     elif so_nuoc <= 20:\n",
    "#         tien_nuoc = 10 * gia_ban_nuoc[0] + (so_nuoc - 10) * gia_ban_nuoc[1]\n",
    "#     elif so_nuoc <= 30:\n",
    "#         tien_nuoc = 10 * gia_ban_nuoc[0] + 10 * gia_ban_nuoc[1] + (so_nuoc - 20) * gia_ban_nuoc[2]\n",
    "#     else:\n",
    "#         tien_nuoc = 10 * gia_ban_nuoc[0] + 10 * gia_ban_nuoc[1] + 10 * gia_ban_nuoc[2] + (so_nuoc - 30) * gia_ban_nuoc[3]\n",
    "#     return tien_nuoc\n"
   ]
  },
  {
   "cell_type": "markdown",
   "id": "c0835310",
   "metadata": {},
   "source": [
    "## Lab 4 - Bài 2"
   ]
  },
  {
   "cell_type": "code",
   "execution_count": null,
   "id": "fa9cb39f",
   "metadata": {},
   "outputs": [],
   "source": [
    "# Code lab 4  bài 2 ở đây\n",
    "# def tinh_nguyen_lieu(sl_bdx, sl_btc, sl_bd):\n",
    "#     banh_dau_xanh = {\"đường\":0.04, \"đậu\":0.07}\n",
    "#     banh_thap_cam = {\"đương\":0.06, \"đậu\":0}\n",
    "#     banh_deo = {\"đường\":0.05, \"đậu\":0.02}\n",
    "#     nguyen_lieu = {}\n",
    "#     duong_hop_banh = sl_bdx * banh_dau_xanh[\"đường\"] + sl_btc * banh_thap_cam[\"đương\"] + sl_bd * banh_deo[\"đường\"]\n",
    "#     dau_hop_banh = sl_bdx * banh_dau_xanh[\"đậu\"] + sl_btc * banh_thap_cam[\"đậu\"] + sl_bd * banh_deo[\"đậu\"]\n",
    "#     nguyen_lieu[\"đường\"] = duong_hop_banh\n",
    "#     nguyen_lieu[\"đậu\"] = dau_hop_banh\n",
    "#     return nguyen_lieu\n"
   ]
  },
  {
   "cell_type": "markdown",
   "id": "0f2483fe",
   "metadata": {},
   "source": [
    "## Lab 4 - Bài 3"
   ]
  },
  {
   "cell_type": "code",
   "execution_count": null,
   "id": "7034990b",
   "metadata": {},
   "outputs": [],
   "source": [
    "# Code lab 4  bài 3 ở đây\n",
    "# Nhập dãy số nguyên, lọc số chẵn bằng lambda + filter\n",
    "try:\n",
    "    # Nhập vào dãy số cách nhau bởi dấu cách\n",
    "    my_list = list(map(int, input(\"Nhập dãy số nguyên: \").split()))\n",
    "    new_list = list(filter(lambda x: x % 2 == 0, my_list))\n",
    "    print(\"Danh sách số chẵn:\", new_list)\n",
    "\n",
    "except ValueError:\n",
    "    print(\"Lỗi: Bạn phải nhập toàn số nguyên!\")\n"
   ]
  },
  {
   "cell_type": "code",
   "execution_count": null,
   "id": "4bd555e7",
   "metadata": {},
   "outputs": [],
   "source": [
    "# Nhập dãy số nguyên, lọc số chẵn bằng lambda + filter\n",
    "# Nhập không giới hạn số phần tử, stop bằng s/S\n",
    "\n",
    "my_list = []\n",
    "\n",
    "while True:\n",
    "    n = input(\"Nhập số nguyên (hoặc 's' để dừng): \")\n",
    "    if n.lower() == \"s\":\n",
    "        break\n",
    "    try:\n",
    "        my_list.append(int(n))\n",
    "    except ValueError:\n",
    "        print(\"Lỗi: vui lòng nhập số nguyên!\")\n",
    "\n",
    "new_list = list(filter(lambda x: x % 2 == 0, my_list))\n",
    "\n",
    "print(\"Danh sách số chẵn:\", new_list)\n"
   ]
  },
  {
   "cell_type": "markdown",
   "id": "d36ea3d3",
   "metadata": {},
   "source": [
    "## Lab 4 - Bài 4"
   ]
  },
  {
   "cell_type": "code",
   "execution_count": null,
   "id": "4c707ec1",
   "metadata": {},
   "outputs": [
    {
     "ename": "",
     "evalue": "",
     "output_type": "error",
     "traceback": [
      "\u001b[1;31mRunning cells with 'Python 3.11.7' requires the ipykernel package.\n",
      "\u001b[1;31m<a href='command:jupyter.createPythonEnvAndSelectController'>Create a Python Environment</a> with the required packages."
     ]
    }
   ],
   "source": [
    "# code lab 4 bài 4 ở đây\n",
    "import lab4 \n",
    "\n",
    "menu = {\n",
    "    \"1\": \"Tính tiền nước sinh hoạt\",\n",
    "    \"2\": \"Tính nguyên liệu làm bánh\",\n",
    "    \"3\": \"Thoát\"\n",
    "}\n",
    "\n",
    "while True:\n",
    "    print(\"===\"*10 + \" MENU \" + \"===\"*10)\n",
    "    for k, v in menu.items():\n",
    "        print(f\"{k} : {v}\")\n",
    "    print(\"===\"*25)\n",
    "    \n",
    "    print(\"Lựa chọn chức năng Chương trình\")\n",
    "    lua_chon = input(\"Nhập chức năng chương trình: \")\n",
    "    \n",
    "    if lua_chon == \"3\":\n",
    "        print(\"Kết thúc chương trình\")\n",
    "        break\n",
    "    elif lua_chon == \"1\":\n",
    "        so_nuoc = float(input(\"Số nước: \"))\n",
    "        print(f\"Số tiền thanh toán cho số nước {so_nuoc} là: {lab4.tinh_tien_nuoc(so_nuoc)}\")\n",
    "    elif lua_chon == \"2\":\n",
    "        sl_bdx = float(input(\"Bánh đậu xanh: \"))\n",
    "        sl_btc = float(input(\"Bánh tro: \"))\n",
    "        sl_bd  = float(input(\"Bánh dẻo: \"))\n",
    "        print(f\"Nguyên liệu làm bánh: {lab4.tinh_nguyen_lieu(sl_bdx, sl_btc, sl_bd)}\")\n",
    "    else:\n",
    "        print(\"Lựa chọn không hợp lệ, vui lòng nhập lại hoăc nhập 3 để thoát!\")\n"
   ]
  },
  {
   "cell_type": "markdown",
   "id": "e2b41d4a",
   "metadata": {},
   "source": [
    "## Lab 4 - Bài 5: bài tập làm thêm"
   ]
  },
  {
   "cell_type": "code",
   "execution_count": null,
   "id": "0e0172f7",
   "metadata": {},
   "outputs": [],
   "source": [
    "# code lab 4  bài làm thêm ở đây "
   ]
  }
 ],
 "metadata": {
  "kernelspec": {
   "display_name": "Python 3",
   "language": "python",
   "name": "python3"
  },
  "language_info": {
   "codemirror_mode": {
    "name": "ipython",
    "version": 3
   },
   "file_extension": ".py",
   "mimetype": "text/x-python",
   "name": "python",
   "nbconvert_exporter": "python",
   "pygments_lexer": "ipython3",
   "version": "3.11.7"
  }
 },
 "nbformat": 4,
 "nbformat_minor": 5
}
