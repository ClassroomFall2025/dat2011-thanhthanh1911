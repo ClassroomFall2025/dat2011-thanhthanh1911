{
 "cells": [
  {
   "cell_type": "markdown",
   "id": "fdeff819",
   "metadata": {},
   "source": [
    "# Sinh Viên thực hiện Lab 2 ở Đây"
   ]
  },
  {
   "cell_type": "markdown",
   "id": "acc5d7dc",
   "metadata": {},
   "source": [
    "## Lab 2 - Bài 1"
   ]
  },
  {
   "cell_type": "code",
   "execution_count": 3,
   "id": "001e0507",
   "metadata": {},
   "outputs": [
    {
     "name": "stdout",
     "output_type": "stream",
     "text": [
      "Kiếp con người mong manh như là gió\n",
      "Sống trên đời có được mấy lần vui\n",
      "Sao phải đau mà không thể mỉm cười\n",
      "Gắng buông nỗi ngậm ngùi nơi quá khứ\n",
      "\n",
      "Nếu có thể sao ta không làm thử\n",
      "Để tâm hồn khắc hai chữ bình an\n",
      "Cho đôi chân bước thanh thản nhẹ nhàng\n",
      "Dù hướng đời có muôn ngàn đá sỏi\n",
      "con người có trong bài thơ:  True\n",
      "Từ tìm kiếm: con người\n",
      "Từ tìm kiếm: con người\n",
      "Từ tìm kiếm: con người\n",
      "CON NGƯỜI\n",
      "CON NGƯỜI\n"
     ]
    }
   ],
   "source": [
    "# Code lab 2 bài 1 ở đây\n",
    "BaiTho = '''Kiếp con người mong manh như là gió\n",
    "Sống trên đời có được mấy lần vui\n",
    "Sao phải đau mà không thể mỉm cười\n",
    "Gắng buông nỗi ngậm ngùi nơi quá khứ\n",
    "\n",
    "Nếu có thể sao ta không làm thử\n",
    "Để tâm hồn khắc hai chữ bình an\n",
    "Cho đôi chân bước thanh thản nhẹ nhàng\n",
    "Dù hướng đời có muôn ngàn đá sỏi'''\n",
    "print(BaiTho)\n",
    "\n",
    "timkim = 'con người' in BaiTho\n",
    "print(\"con người có trong bài thơ: \", timkim)\n",
    "index1 = BaiTho.find('con người') #tìm vị trí con người\n",
    "index2 = index1 + len('con người') #tính vị trí kết thúc\n",
    "tu_tim_kim = BaiTho[index1:index2] #trích từ vị trí bắt đầu đến kết thúc\n",
    "print(\"Từ tìm kiếm:\", tu_tim_kim) #con người\n",
    "\n",
    "tu_tim_kim = input(\"Nhập từ cần tìm: \")\n",
    "index1 = BaiTho.find(tu_tim_kim) #tìm vị trí con người\n",
    "index2 = index1 + len(tu_tim_kim) #tính vị trí kết\n",
    "print(\"Từ tìm kiếm:\", tu_tim_kim)\n",
    "     \n",
    "TuCanTrichXuat = input(\"Nhập từ cần trích xuất: \")\n",
    "index1 = BaiTho.find(TuCanTrichXuat)\n",
    "len_tu = len(TuCanTrichXuat)\n",
    "index2 = index1 + len_tu\n",
    "trich_xuat_chuoi = BaiTho[index1:index2]\n",
    "print(trich_xuat_chuoi.upper())"
   ]
  },
  {
   "cell_type": "markdown",
   "id": "c0835310",
   "metadata": {},
   "source": [
    "## Lab 2 - Bài 2"
   ]
  },
  {
   "cell_type": "code",
   "execution_count": 1,
   "id": "fa9cb39f",
   "metadata": {},
   "outputs": [
    {
     "name": "stdout",
     "output_type": "stream",
     "text": [
      "... Kiếp con người mỏng manh như là gió\n",
      "Sống trên đời có được mấy lần vui\n",
      "Sao phải đau mà không thể mỉm cười\n",
      "Gắng buông nỗi ngậm ngùi nơi quá khứ\n",
      "\n",
      "Nếu có thể sao ta không làm thử\n",
      "Để tâm hồn khắc hai chữ hạnh phúc\n",
      "Cho đôi chân bước thanh thản nhẹ nhàng\n",
      "Dù hướng đời có muôn ngàn đá sỏi\n",
      "\n",
      " ...\n"
     ]
    }
   ],
   "source": [
    "# Code lab 2  bài 2 ở đây\n",
    "bai_tho_coppy = \"\"\"Kiếp con người mỏng manh như là gió\n",
    "Sống trên đời có được mấy lần vui\n",
    "Sao phải đau mà không thể mỉm cười\n",
    "Gắng buông nỗi ngậm ngùi nơi quá khứ\n",
    "\n",
    "Nếu có thể sao ta không làm thử\n",
    "Để tâm hồn khắc hai chữ bình an\n",
    "Cho đôi chân bước thanh thản nhẹ nhàng\n",
    "Dù hướng đời có muôn ngàn đá sỏi\\n\\n\"\"\"\n",
    "\n",
    "\n",
    "bai_tho_moi = bai_tho_coppy.replace(\"bình an\", \"hạnh phúc\")\n",
    "bai_tho_moi = \"... \" + bai_tho_moi + \" ...\"\n",
    "print(bai_tho_moi)"
   ]
  },
  {
   "cell_type": "markdown",
   "id": "0f2483fe",
   "metadata": {},
   "source": [
    "## Lab 2 - Bài 3"
   ]
  },
  {
   "cell_type": "code",
   "execution_count": 4,
   "id": "7034990b",
   "metadata": {},
   "outputs": [
    {
     "name": "stdout",
     "output_type": "stream",
     "text": [
      "nghiệm là: -1.5\n"
     ]
    }
   ],
   "source": [
    "# Code lab 2  bài 3 ở đây\n",
    "a = int(input(\"Nhập số thứ nhất: \"))\n",
    "b = int(input(\"Nhập số thứ hai: \"))\n",
    "\n",
    "if a == 0:\n",
    "    if b == 0:\n",
    "        print(\"vô số nghiệm\")\n",
    "    else:\n",
    "        print(\"vô nghiệm\")\n",
    "else:\n",
    "    x = -b/a\n",
    "    print(\"nghiệm là:\", x)"
   ]
  },
  {
   "cell_type": "markdown",
   "id": "d36ea3d3",
   "metadata": {},
   "source": [
    "## Lab 2 - Bài 4"
   ]
  },
  {
   "cell_type": "code",
   "execution_count": null,
   "id": "4c707ec1",
   "metadata": {},
   "outputs": [],
   "source": [
    "# code lab 2 bài 4 ở đây\n",
    "import math\n",
    "\n",
    "a = float(input(\"Nhập hệ số a: \"))\n",
    "b = float(input(\"Nhập hệ số b: \"))\n",
    "c = float(input(\"Nhập hệ số c: \"))\n",
    "\n",
    "if a == 0:\n",
    "    if b == 0:\n",
    "        if c == 0:\n",
    "            print(\"Phương trình vô số nghiệm\")\n",
    "        else:\n",
    "            print(\"Phương trình vô nghiệm\")\n",
    "    else:\n",
    "        x = -c/b\n",
    "        print(\"Phương trình bậc nhất, nghiệm là: x =\", x)\n",
    "else:\n",
    "    # a!=0\n",
    "    delta = b**2 - 4*a*c\n",
    "    print(\"Delta =\", delta)\n",
    "\n",
    "    if delta < 0:\n",
    "        print(\"Phương trình vô nghiệm\")\n",
    "    elif delta == 0:\n",
    "        x = -b/(2*a)\n",
    "        print(\"Phương trình có nghiệm kép: x =\", x)\n",
    "    else:\n",
    "        x1 = (-b + math.sqrt(delta))/(2*a)\n",
    "        x2 = (-b - math.sqrt(delta))/(2*a)\n",
    "        print(\"Phương trình có 2 nghiệm phân biệt:\")\n",
    "        print(\"x1 =\", x1)\n",
    "        print(\"x2 =\", x2)\n"
   ]
  },
  {
   "cell_type": "markdown",
   "id": "e2b41d4a",
   "metadata": {},
   "source": [
    "## Lab 2 - Bài 5: bài tập làm thêm"
   ]
  },
  {
   "cell_type": "code",
   "execution_count": null,
   "id": "0e0172f7",
   "metadata": {},
   "outputs": [],
   "source": [
    "# code lab 2  bài làm thêm ở đây \n",
    "number1 = float(input(\"Nhập số thứ nhất: \"))\n",
    "number2 = float(input(\"Nhập số thứ hai: \"))    \n",
    "toantu = input(\"Nhập phép toán (+, -, *, /): \") \n",
    "if toantu == \"+\":\n",
    "    ketqua = (number1) + (number2)\n",
    "    print(f\"Kết quả:\", ketqua)\n",
    "if toantu == \"-\":\n",
    "    ketqua = (number1) - (number2)\n",
    "    print(f\"Kết quả:\", ketqua)   \n",
    "if toantu == \"*\":\n",
    "    ketqua = (number1) * (number2)\n",
    "    print(f\"Kết quả:\", ketqua)\n",
    "if toantu == \"/\" and number2 != 0:\n",
    "        ketqua = (number1) / (number2)\n",
    "        print(f\"Kết quả:\", ketqua)"
   ]
  }
 ],
 "metadata": {
  "kernelspec": {
   "display_name": "Python 3",
   "language": "python",
   "name": "python3"
  },
  "language_info": {
   "codemirror_mode": {
    "name": "ipython",
    "version": 3
   },
   "file_extension": ".py",
   "mimetype": "text/x-python",
   "name": "python",
   "nbconvert_exporter": "python",
   "pygments_lexer": "ipython3",
   "version": "3.13.7"
  }
 },
 "nbformat": 4,
 "nbformat_minor": 5
}
