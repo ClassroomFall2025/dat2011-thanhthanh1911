{
 "cells": [
  {
   "cell_type": "markdown",
   "id": "fdeff819",
   "metadata": {},
   "source": [
    "# Sinh Viên thực hiện Lab 3 ở Đây"
   ]
  },
  {
   "cell_type": "markdown",
   "id": "acc5d7dc",
   "metadata": {},
   "source": [
    "## Lab 3 - Bài 1"
   ]
  },
  {
   "cell_type": "code",
   "execution_count": 9,
   "id": "001e0507",
   "metadata": {},
   "outputs": [
    {
     "name": "stdout",
     "output_type": "stream",
     "text": [
      "Thoat chương trình\n",
      "Dãy số vừa nhập là:  [9, 5, 3, 5, 2, 1, 7]\n",
      "Dãy số sau khi sắp xếp tăng dần là:  [1, 2, 3, 5, 5, 7, 9]\n",
      "Giá trị nhỏ nhất dãy số 9\n",
      "Giá trị lớn nhất dãy số 1\n",
      "Dãy số sau khi sắp xếp giảm dần là:  [9, 7, 5, 5, 3, 2, 1]\n",
      "Giá trị nhỏ nhất dãy số 1\n",
      "Giá trị lớn nhất dãy số 9\n",
      "Tổng các số chia hết cho 3 là:  12\n",
      "có 0chia het cho 3 trong day so\n",
      "khong co so chia het cho 3\n",
      "Dãy số chia hết cho 3 là:  [9, 3]\n"
     ]
    }
   ],
   "source": [
    "# Code lab 3 bài 1 ở đây\n",
    "day_so = []\n",
    "day_so_chia3 = []\n",
    "tong = 0\n",
    "dem = 0\n",
    "while True:\n",
    "    so = input(\"Nhập số: \")\n",
    "    if so == 'q':\n",
    "        print(\"Thoat chương trình\")\n",
    "        break\n",
    "    else:\n",
    "        try:\n",
    "            phan_tu = int(so)\n",
    "            day_so.append(phan_tu)\n",
    "        except ValueError:\n",
    "            print(\"Vui lòng nhập đúng số hoặc q để thoát chương trình\")\n",
    "print(\"Dãy số vừa nhập là: \", day_so)\n",
    "# Sắp xếp dãy số tăng dần\n",
    "day_so.sort()\n",
    "print(\"Dãy số sau khi sắp xếp tăng dần là: \", day_so)\n",
    "print(\"Giá trị nhỏ nhất dãy số\", day_so[-1])\n",
    "print(\"Giá trị lớn nhất dãy số\", day_so[0])\n",
    "# sắp xếp dãy số giảm dần\n",
    "day_so.sort(reverse=True)\n",
    "print(\"Dãy số sau khi sắp xếp giảm dần là: \", day_so)\n",
    "print(\"Giá trị nhỏ nhất dãy số\", day_so[-1])\n",
    "print(\"Giá trị lớn nhất dãy số\", day_so[0])\n",
    "for phan_tu in day_so:\n",
    "    if phan_tu % 3 == 0:\n",
    "        tong = tong + phan_tu # tong += phan_tu\n",
    "        den = dem + 1 # dem += 1\n",
    "        day_so_chia3.append(phan_tu)\n",
    "print(\"Tổng các số chia hết cho 3 là: \", tong)\n",
    "print(f\"có {dem}chia het cho 3 trong day so\")\n",
    "if dem != 0:\n",
    "    print(\"tbc\", tong/dem)\n",
    "else:\n",
    "    print(\"khong co so chia het cho 3\")\n",
    "print(\"Dãy số chia hết cho 3 là: \", day_so_chia3)"
   ]
  },
  {
   "cell_type": "markdown",
   "id": "c0835310",
   "metadata": {},
   "source": [
    "## Lab 3 - Bài 2"
   ]
  },
  {
   "cell_type": "code",
   "execution_count": null,
   "id": "fa9cb39f",
   "metadata": {},
   "outputs": [
    {
     "name": "stdout",
     "output_type": "stream",
     "text": [
      "Thông tin sinh viên:  {'họ tên': 'Thanh', 'điểm': 7.0, 'học lực': 'Khá'}\n"
     ]
    }
   ],
   "source": [
    "# Code lab 3  bài 2 ở đây\n",
    "sinh_vien ={\n",
    "    \"họ tên\":\"\",\n",
    "    \"điểm\":\"\"\n",
    "}\n",
    "#nhập dữ liệu sinh viên\n",
    "ho_ten = input(\"Nhập họ tên sinh viên: \")\n",
    "diem = float(input(\"Nhập điểm sinh viên: \"))\n",
    "sinh_vien[\"họ tên\"] = ho_ten\n",
    "sinh_vien[\"điểm\"] = diem\n",
    "\n",
    "if diem >= 9 and diem <= 10:\n",
    "    hoc_luc = \"Xuất sắc\"\n",
    "elif diem >= 8:\n",
    "    hoc_luc = \"Giỏi\"\n",
    "elif diem >= 7:\n",
    "    hoc_luc = \"Khá\"\n",
    "elif diem >= 5:\n",
    "    hoc_luc = \"Trung bình\"\n",
    "elif diem >= 3:\n",
    "    hoc_luc = \"Yếu\"\n",
    "else:\n",
    "    hoc_luc = \"Kém\"\n",
    "sinh_vien[\"học lực\"] = hoc_luc\n",
    "print(\"Thông tin sinh viên: \", sinh_vien)\n"
   ]
  },
  {
   "cell_type": "code",
   "execution_count": 6,
   "id": "99d32586",
   "metadata": {},
   "outputs": [
    {
     "name": "stdout",
     "output_type": "stream",
     "text": [
      "[{'họ tên': 'Thanh Thanh', 'điểm': 8.0, 'Giỏi': 'Giỏi'}]\n",
      "[{'họ tên': 'Hoang', 'điểm': 9.0, 'Giỏi': 'Giỏi', 'Xuất sắc': 'Xuất sắc'}, {'họ tên': 'Hoang', 'điểm': 9.0, 'Giỏi': 'Giỏi', 'Xuất sắc': 'Xuất sắc'}]\n",
      "[{'họ tên': 'Bao', 'điểm': 5.0, 'Giỏi': 'Giỏi', 'Xuất sắc': 'Xuất sắc', 'Trung bình': 'Trung bình'}, {'họ tên': 'Bao', 'điểm': 5.0, 'Giỏi': 'Giỏi', 'Xuất sắc': 'Xuất sắc', 'Trung bình': 'Trung bình'}, {'họ tên': 'Bao', 'điểm': 5.0, 'Giỏi': 'Giỏi', 'Xuất sắc': 'Xuất sắc', 'Trung bình': 'Trung bình'}]\n"
     ]
    }
   ],
   "source": [
    "ds_sinh_vien = []\n",
    "sinh_vien = {}\n",
    "# Nhập dữ liệu sinh viên vào ds\n",
    "while True:\n",
    "    ho_ten = input(\"Nhập họ tên sinh viên: \")\n",
    "    if ho_ten.lower() == \"q\":\n",
    "        break\n",
    "    else:\n",
    "        diem = float(input(\"Nhập điểm sinh viên: \"))\n",
    "        if diem >= 9 and diem <= 10:\n",
    "            hoc_luc = \"Xuất sắc\"\n",
    "        elif diem >= 8:\n",
    "            hoc_luc = \"Giỏi\"\n",
    "        elif diem >= 7:\n",
    "            hoc_luc = \"Khá\"\n",
    "        elif diem >= 5:\n",
    "            hoc_luc = \"Trung bình\"\n",
    "        elif diem >= 3:\n",
    "            hoc_luc = \"Yếu\"\n",
    "        else:\n",
    "            hoc_luc = \"Kém\"\n",
    "        sinh_vien[\"họ tên\"] = ho_ten\n",
    "        sinh_vien[\"điểm\"] = diem\n",
    "        sinh_vien[hoc_luc] = hoc_luc\n",
    "        ds_sinh_vien.append(sinh_vien)\n",
    "    print(ds_sinh_vien)\n",
    "        "
   ]
  },
  {
   "cell_type": "markdown",
   "id": "0f2483fe",
   "metadata": {},
   "source": [
    "## Lab 3 - Bài 3"
   ]
  },
  {
   "cell_type": "code",
   "execution_count": 1,
   "id": "7034990b",
   "metadata": {},
   "outputs": [
    {
     "name": "stdout",
     "output_type": "stream",
     "text": [
      "5 là số nguyên tố\n"
     ]
    }
   ],
   "source": [
    "# Code lab 3  bài 3 ở đây\n",
    "n = int(input(\"Nhập một số nguyên: \"))\n",
    "ok = True\n",
    "i = 2\n",
    "\n",
    "while i < (n - 1):\n",
    "    if n % i == 0:\n",
    "        ok = False\n",
    "        break\n",
    "    i += 1\n",
    "\n",
    "if ok and n > 1:\n",
    "    print(n, \"là số nguyên tố\")\n",
    "else:\n",
    "    print(n, \"không phải là số nguyên tố\")"
   ]
  },
  {
   "cell_type": "markdown",
   "id": "d36ea3d3",
   "metadata": {},
   "source": [
    "## Lab 3 - Bài 4"
   ]
  },
  {
   "cell_type": "code",
   "execution_count": 2,
   "id": "4c707ec1",
   "metadata": {},
   "outputs": [
    {
     "name": "stdout",
     "output_type": "stream",
     "text": [
      "Bảng cửu chương 1:\n",
      "1 x 1 = 1\t1 x 2 = 2\t1 x 3 = 3\t1 x 4 = 4\t1 x 5 = 5\t1 x 6 = 6\t1 x 7 = 7\t1 x 8 = 8\t1 x 9 = 9\t\n",
      "Bảng cửu chương 2:\n",
      "2 x 1 = 2\t2 x 2 = 4\t2 x 3 = 6\t2 x 4 = 8\t2 x 5 = 10\t2 x 6 = 12\t2 x 7 = 14\t2 x 8 = 16\t2 x 9 = 18\t\n",
      "Bảng cửu chương 3:\n",
      "3 x 1 = 3\t3 x 2 = 6\t3 x 3 = 9\t3 x 4 = 12\t3 x 5 = 15\t3 x 6 = 18\t3 x 7 = 21\t3 x 8 = 24\t3 x 9 = 27\t\n",
      "Bảng cửu chương 4:\n",
      "4 x 1 = 4\t4 x 2 = 8\t4 x 3 = 12\t4 x 4 = 16\t4 x 5 = 20\t4 x 6 = 24\t4 x 7 = 28\t4 x 8 = 32\t4 x 9 = 36\t\n",
      "Bảng cửu chương 5:\n",
      "5 x 1 = 5\t5 x 2 = 10\t5 x 3 = 15\t5 x 4 = 20\t5 x 5 = 25\t5 x 6 = 30\t5 x 7 = 35\t5 x 8 = 40\t5 x 9 = 45\t\n",
      "Bảng cửu chương 6:\n",
      "6 x 1 = 6\t6 x 2 = 12\t6 x 3 = 18\t6 x 4 = 24\t6 x 5 = 30\t6 x 6 = 36\t6 x 7 = 42\t6 x 8 = 48\t6 x 9 = 54\t\n",
      "Bảng cửu chương 7:\n",
      "7 x 1 = 7\t7 x 2 = 14\t7 x 3 = 21\t7 x 4 = 28\t7 x 5 = 35\t7 x 6 = 42\t7 x 7 = 49\t7 x 8 = 56\t7 x 9 = 63\t\n",
      "Bảng cửu chương 8:\n",
      "8 x 1 = 8\t8 x 2 = 16\t8 x 3 = 24\t8 x 4 = 32\t8 x 5 = 40\t8 x 6 = 48\t8 x 7 = 56\t8 x 8 = 64\t8 x 9 = 72\t\n",
      "Bảng cửu chương 9:\n",
      "9 x 1 = 9\t9 x 2 = 18\t9 x 3 = 27\t9 x 4 = 36\t9 x 5 = 45\t9 x 6 = 54\t9 x 7 = 63\t9 x 8 = 72\t9 x 9 = 81\t\n"
     ]
    }
   ],
   "source": [
    "# code lab 3 bài 4 ở đây\n",
    "# Viết chương trình xuất ra màn hình bảng cửu chương\n",
    "for i in range(1, 10):\n",
    "        print(f\"Bảng cửu chương {i}:\")\n",
    "        for j in range(1, 10):\n",
    "            print(f\"{i} x {j} = {i*j}\", end=\"\\t\")\n",
    "        print()"
   ]
  },
  {
   "cell_type": "code",
   "execution_count": 1,
   "id": "7e30af96",
   "metadata": {},
   "outputs": [
    {
     "name": "stdout",
     "output_type": "stream",
     "text": [
      "1 x 1 = 1 \t2 x 1 = 2 \t3 x 1 = 3 \t4 x 1 = 4 \t5 x 1 = 5 \t6 x 1 = 6 \t7 x 1 = 7 \t8 x 1 = 8 \t9 x 1 = 9 \t\n",
      "1 x 2 = 2 \t2 x 2 = 4 \t3 x 2 = 6 \t4 x 2 = 8 \t5 x 2 = 10\t6 x 2 = 12\t7 x 2 = 14\t8 x 2 = 16\t9 x 2 = 18\t\n",
      "1 x 3 = 3 \t2 x 3 = 6 \t3 x 3 = 9 \t4 x 3 = 12\t5 x 3 = 15\t6 x 3 = 18\t7 x 3 = 21\t8 x 3 = 24\t9 x 3 = 27\t\n",
      "1 x 4 = 4 \t2 x 4 = 8 \t3 x 4 = 12\t4 x 4 = 16\t5 x 4 = 20\t6 x 4 = 24\t7 x 4 = 28\t8 x 4 = 32\t9 x 4 = 36\t\n",
      "1 x 5 = 5 \t2 x 5 = 10\t3 x 5 = 15\t4 x 5 = 20\t5 x 5 = 25\t6 x 5 = 30\t7 x 5 = 35\t8 x 5 = 40\t9 x 5 = 45\t\n",
      "1 x 6 = 6 \t2 x 6 = 12\t3 x 6 = 18\t4 x 6 = 24\t5 x 6 = 30\t6 x 6 = 36\t7 x 6 = 42\t8 x 6 = 48\t9 x 6 = 54\t\n",
      "1 x 7 = 7 \t2 x 7 = 14\t3 x 7 = 21\t4 x 7 = 28\t5 x 7 = 35\t6 x 7 = 42\t7 x 7 = 49\t8 x 7 = 56\t9 x 7 = 63\t\n",
      "1 x 8 = 8 \t2 x 8 = 16\t3 x 8 = 24\t4 x 8 = 32\t5 x 8 = 40\t6 x 8 = 48\t7 x 8 = 56\t8 x 8 = 64\t9 x 8 = 72\t\n",
      "1 x 9 = 9 \t2 x 9 = 18\t3 x 9 = 27\t4 x 9 = 36\t5 x 9 = 45\t6 x 9 = 54\t7 x 9 = 63\t8 x 9 = 72\t9 x 9 = 81\t\n"
     ]
    }
   ],
   "source": [
    "# Bảng cửu chương 1..9 dạng lưới ngang\n",
    "for j in range(1, 10):          # vòng lặp hàng (1 -> 9)\n",
    "    for i in range(1, 10):      # vòng lặp cột (1 -> 9)\n",
    "        print(f\"{i} x {j} = {i*j:<2}\", end=\"\\t\")\n",
    "    print()\n"
   ]
  },
  {
   "cell_type": "markdown",
   "id": "e2b41d4a",
   "metadata": {},
   "source": [
    "## Lab 3 - Bài 5: bài tập làm thêm"
   ]
  },
  {
   "cell_type": "code",
   "execution_count": 2,
   "id": "0e0172f7",
   "metadata": {},
   "outputs": [
    {
     "name": "stdout",
     "output_type": "stream",
     "text": [
      "\n",
      "1. Phep tinh co ban: Cong, tru, nhan, chia\n",
      "2. Luy thua: Tinh x^y\n",
      "3. Can bac hai: Tinh √x\n",
      "4. Ham luong giac: Sin, cos, tan\n",
      "5. Logarit: Log co so 10, ln, log co so tuy chon\n",
      "6. Giai phuong trinh bac nhat\n",
      "7. Giai phuong trinh bac 2\n",
      "8. Lich su: Luu va xem lai cac phep tinh da thuc hien\n",
      "9. Thoi gian: Hien thi thoi gian hien tai\n",
      "10. Giao dien than thien: Menu de su dung bang tieng Viet\n",
      "Ban chon giai phuong trinh bac 2\n",
      "\n",
      "1. Phep tinh co ban: Cong, tru, nhan, chia\n",
      "2. Luy thua: Tinh x^y\n",
      "3. Can bac hai: Tinh √x\n",
      "4. Ham luong giac: Sin, cos, tan\n",
      "5. Logarit: Log co so 10, ln, log co so tuy chon\n",
      "6. Giai phuong trinh bac nhat\n",
      "7. Giai phuong trinh bac 2\n",
      "8. Lich su: Luu va xem lai cac phep tinh da thuc hien\n",
      "9. Thoi gian: Hien thi thoi gian hien tai\n",
      "10. Giao dien than thien: Menu de su dung bang tieng Viet\n",
      "Thoat chuong trinh\n"
     ]
    }
   ],
   "source": [
    "# code lab 3  bài làm thêm ở đây\n",
    "menu = \"\"\"\n",
    "1. Phep tinh co ban: Cong, tru, nhan, chia\n",
    "2. Luy thua: Tinh x^y\n",
    "3. Can bac hai: Tinh √x\n",
    "4. Ham luong giac: Sin, cos, tan\n",
    "5. Logarit: Log co so 10, ln, log co so tuy chon\n",
    "6. Giai phuong trinh bac nhat\n",
    "7. Giai phuong trinh bac 2\n",
    "8. Lich su: Luu va xem lai cac phep tinh da thuc hien\n",
    "9. Thoi gian: Hien thi thoi gian hien tai\n",
    "10. Giao dien than thien: Menu de su dung bang tieng Viet\"\"\"\n",
    "while True:\n",
    "    print(menu)\n",
    "    lua_chon = input(\"Chon chuc nang: \")\n",
    "    match lua_chon:\n",
    "        case \"0\":\n",
    "            print(\"Thoat chuong trinh\")\n",
    "            break\n",
    "        case \"1\":\n",
    "            print(\"Ban chon phep tinh co ban\")\n",
    "        case \"2\":\n",
    "            print(\"Ban chon luy thua\")\n",
    "        case \"3\":\n",
    "            print(\"Ban chon can bac hai\")\n",
    "        case \"4\":\n",
    "            print(\"Ban chon ham luong giac\")\n",
    "        case \"5\":\n",
    "            print(\"Ban chon logarit\")\n",
    "        case \"6\":\n",
    "            print(\"Ban chon giai phuong trinh bac nhat\")\n",
    "        case \"7\":\n",
    "            print(\"Ban chon giai phuong trinh bac 2\")\n",
    "        case \"8\":\n",
    "            print(\"Ban chon lich su\")\n",
    "        case \"9\":\n",
    "            print(\"Ban chon thoi gian\")\n",
    "        case \"10\":\n",
    "            print(\"Ban chon giao dien than thien\")\n",
    "        case _:\n",
    "            print(\"Vui lòng chọn đúng chức năng hoăc 0 để thoát chương trình\")\n",
    "\n",
    "    "
   ]
  },
  {
   "cell_type": "code",
   "execution_count": null,
   "id": "efe99000",
   "metadata": {},
   "outputs": [],
   "source": [
    "while True:\n",
    "    print(\"\"\"\n",
    "    ====== MÁY TÍNH BỎ TÚI ======\n",
    "    1. Phép tính cơ bản\n",
    "    2. Lũy thừa\n",
    "    3. Căn bậc hai\n",
    "    4. Hàm lượng giác\n",
    "    5. Logarit\n",
    "    6. Giải phương trình bậc nhất\n",
    "    7. Giải phương trình bậc 2\n",
    "    8. Xem lịch sử\n",
    "    9. Xem thời gian hiện tại\n",
    "    0. Thoát\n",
    "    \"\"\")\n",
    "\n",
    "    lua_chon = input(\"Chọn chức năng: \")\n",
    "\n",
    "    match lua_chon:\n",
    "            case \"1\":\n",
    "                print(\"Phép tính cơ bản\")\n",
    "            case \"2\":\n",
    "                print(\"Căn bậc hai\")\n",
    "            case \"3\":\n",
    "                print(\"TLogarit\")\n",
    "            case \"4\":\n",
    "                print(\"Thoát chuong trinh\")\n",
    "            case _:\n",
    "                print(\"Chức năng không hợp lệ\")"
   ]
  }
 ],
 "metadata": {
  "kernelspec": {
   "display_name": "Python 3",
   "language": "python",
   "name": "python3"
  },
  "language_info": {
   "codemirror_mode": {
    "name": "ipython",
    "version": 3
   },
   "file_extension": ".py",
   "mimetype": "text/x-python",
   "name": "python",
   "nbconvert_exporter": "python",
   "pygments_lexer": "ipython3",
   "version": "3.13.7"
  }
 },
 "nbformat": 4,
 "nbformat_minor": 5
}
